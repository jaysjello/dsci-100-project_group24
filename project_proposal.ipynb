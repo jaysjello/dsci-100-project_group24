{
 "cells": [
  {
   "cell_type": "markdown",
   "id": "d3e43993-e156-4286-b432-32cee4e9197b",
   "metadata": {},
   "source": [
    "Helllo"
   ]
  },
  {
   "cell_type": "code",
   "execution_count": 1,
   "id": "fa302f0f-f19f-44c5-87bd-4359c899e355",
   "metadata": {},
   "outputs": [
    {
     "name": "stdout",
     "output_type": "stream",
     "text": [
      "[1] \"hello mommy\"\n"
     ]
    }
   ],
   "source": [
    "print(\"hello mommy\")"
   ]
  },
  {
   "cell_type": "code",
   "execution_count": null,
   "id": "8d4e3800-55c0-430f-ba9c-07333739da12",
   "metadata": {},
   "outputs": [],
   "source": []
  },
  {
   "cell_type": "code",
   "execution_count": null,
   "id": "a3fe64ca-4a11-4ab8-858d-860987ff6838",
   "metadata": {},
   "outputs": [],
   "source": []
  }
 ],
 "metadata": {
  "kernelspec": {
   "display_name": "R",
   "language": "R",
   "name": "ir"
  },
  "language_info": {
   "codemirror_mode": "r",
   "file_extension": ".r",
   "mimetype": "text/x-r-source",
   "name": "R",
   "pygments_lexer": "r",
   "version": "4.3.1"
  }
 },
 "nbformat": 4,
 "nbformat_minor": 5
}
